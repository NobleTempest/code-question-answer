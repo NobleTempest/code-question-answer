{
 "cells": [
  {
   "cell_type": "code",
   "execution_count": 14,
   "metadata": {},
   "outputs": [],
   "source": [
    "import logging\n",
    "import os\n",
    "import torch\n",
    "import transformers\n",
    "from transformers import RobertaTokenizer, RobertaModel, RobertaConfig"
   ]
  },
  {
   "cell_type": "code",
   "execution_count": null,
   "metadata": {},
   "outputs": [],
   "source": [
    "dataset ={'train':[], 'test':[], 'dev':[]}"
   ]
  },
  {
   "cell_type": "code",
   "execution_count": null,
   "metadata": {},
   "outputs": [],
   "source": [
    "def convert_to_dataset(filename, stage, examples):\n",
    "  idx = 0\n",
    "  codefile = os.path.join(filename, stage + \".code\")\n",
    "  quesfile = os.path.join(filename, stage + \".question\")\n",
    "  ansfile = os.path.join(filename, stage + \".answer\")\n",
    "  with open(codefile,encoding=\"utf-8\") as code_f:\n",
    "      with open(ansfile, encoding=\"utf-8\") as ans_f:\n",
    "          with open(quesfile, encoding=\"utf-8\") as ques_f:\n",
    "              for codeline, quesline, ansline in zip(code_f,ques_f,ans_f):\n",
    "                  code = codeline.strip()\n",
    "                  question = quesline.strip()\n",
    "                  ans = ansline.strip()\n",
    "                  temp_list = {'code':code,'questions':question,'answer':ans}\n",
    "                  examples[stage].append(temp_list)"
   ]
  },
  {
   "cell_type": "code",
   "execution_count": null,
   "metadata": {},
   "outputs": [],
   "source": [
    "convert_to_dataset('/train', 'train', dataset)\n",
    "convert_to_dataset('/valid', 'dev', dataset)\n",
    "convert_to_dataset('/test', 'test', dataset)"
   ]
  },
  {
   "cell_type": "code",
   "execution_count": null,
   "metadata": {},
   "outputs": [],
   "source": [
    "json_object = json.dumps(dataset)\n",
    "with open(\"codeQA.json\", \"w\") as outfile:\n",
    "    outfile.write(json_object)"
   ]
  }
 ],
 "metadata": {
  "kernelspec": {
   "display_name": "Python 3.9.12 64-bit",
   "language": "python",
   "name": "python3"
  },
  "language_info": {
   "codemirror_mode": {
    "name": "ipython",
    "version": 3
   },
   "file_extension": ".py",
   "mimetype": "text/x-python",
   "name": "python",
   "nbconvert_exporter": "python",
   "pygments_lexer": "ipython3",
   "version": "3.9.12"
  },
  "orig_nbformat": 4,
  "vscode": {
   "interpreter": {
    "hash": "cbc5014ed32a3511c99c810aecedbd8e5a5c878610fa20b4667810c497ccaeea"
   }
  }
 },
 "nbformat": 4,
 "nbformat_minor": 2
}
